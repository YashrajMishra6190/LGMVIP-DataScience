{
 "cells": [
  {
   "cell_type": "markdown",
   "id": "faae66ec-41c3-42c2-be7c-72ec50ff989e",
   "metadata": {},
   "source": [
    "# Next Word Prediction\n",
    "----------\n",
    "\n",
    "- Next word prediction tools are available on the majority of smartphone keyboards, and Google also employs this feature based on our browsing history.\n",
    "- Therefore, in order to accurately forecast the next word, preloaded data is also saved in our smartphones' keyboard functions. In this post, I'll use Python to train a Deep Learning model for next word prediction. For my next word prediction model, I'll leverage the Python Tensorflow and Keras libraries.\n",
    "\n",
    "`Task`: Using Tensorflow and Keras Library train a RNN, to predict te next word. \n",
    "\n",
    "`Dataset Link:` https://drive.google.com/file/d/1GeUzNVqiixXHnTl8oNiQ2W3CynX_lsu2/view\n",
    "\n",
    "By Yashraj Mishra "
   ]
  },
  {
   "cell_type": "markdown",
   "id": "cc09e74c-0767-49e9-8354-494c4bfdfbf3",
   "metadata": {},
   "source": [
    "# Importing Required Libraries "
   ]
  },
  {
   "cell_type": "code",
   "execution_count": 1,
   "id": "f4fdcade-a0d1-45ce-a18e-a877417b2bb2",
   "metadata": {},
   "outputs": [],
   "source": [
    "import numpy as np \n",
    "import matplotlib.pyplot as plt\n",
    "%matplotlib inline\n",
    "import pickle \n",
    "import heapq\n",
    "# nlp concept\n",
    "from nltk.tokenize import RegexpTokenizer\n",
    "from keras.models import Sequential, load_model\n",
    "from keras.layers import LSTM, Dense, Activation\n",
    "# from keras.layers.core import Dense, Activation\n",
    "from keras.optimizers import RMSprop"
   ]
  },
  {
   "cell_type": "code",
   "execution_count": 2,
   "id": "94ac4a5a-5173-467f-8b21-9fb916fd4234",
   "metadata": {},
   "outputs": [
    {
     "name": "stdout",
     "output_type": "stream",
     "text": [
      "corpus length: 581888\n"
     ]
    }
   ],
   "source": [
    "path = '1661-0.txt'\n",
    "text = open(path, encoding=\"utf8\").read().lower()\n",
    "print('corpus length:', len(text))"
   ]
  },
  {
   "cell_type": "code",
   "execution_count": 3,
   "id": "51766324-ac8f-4806-acc0-0fe4f4e6511a",
   "metadata": {},
   "outputs": [],
   "source": [
    "#Split the dataset into each word in order, without presence of some special characters,\n",
    "\n",
    "tokenizer = RegexpTokenizer(r'\\w+')\n",
    "words = tokenizer.tokenize(text)"
   ]
  },
  {
   "cell_type": "markdown",
   "id": "2610211e-f470-4a19-a348-9c41d1960691",
   "metadata": {},
   "source": [
    "# Feature Engineering \n",
    "---\n",
    "- It requires a dictionary with each word in data within the list of unique words as the key, with significant position of value.\n",
    "- In Feature Engineering, I will define a Word length which will represent the number of previous words that will determine our next word.\n",
    "- I will define prev words to keep five previous words and their corresponding next words in the list of next words."
   ]
  },
  {
   "cell_type": "markdown",
   "id": "59e822a8-3809-4bf5-84fd-acc67f30e05b",
   "metadata": {},
   "source": [
    "- Unique List "
   ]
  },
  {
   "cell_type": "code",
   "execution_count": 4,
   "id": "66bb581d-68cd-46ee-8b15-c2c9569f5ae7",
   "metadata": {},
   "outputs": [],
   "source": [
    "unique_words = np.unique(words)\n",
    "unique_word_index = dict((c, i) for i, c in enumerate(unique_words))"
   ]
  },
  {
   "cell_type": "code",
   "execution_count": 5,
   "id": "3193610e-8136-4eab-aca0-be42514cf981",
   "metadata": {},
   "outputs": [
    {
     "name": "stdout",
     "output_type": "stream",
     "text": [
      "['project', 'gutenberg', 's', 'the', 'adventures']\n",
      "of\n"
     ]
    }
   ],
   "source": [
    "WORD_LENGTH = 5\n",
    "prev_words = []\n",
    "next_words = []\n",
    "for i in range(len(words) - WORD_LENGTH):\n",
    "    prev_words.append(words[i:i + WORD_LENGTH])\n",
    "    next_words.append(words[i + WORD_LENGTH])\n",
    "print(prev_words[0])\n",
    "print(next_words[0])"
   ]
  },
  {
   "cell_type": "markdown",
   "id": "e0a20820-aeb2-4534-8189-3c4b0a2d0ccd",
   "metadata": {},
   "source": [
    "# Building Model using RNN (Recurrent Neural Network)"
   ]
  },
  {
   "cell_type": "code",
   "execution_count": 6,
   "id": "4eb81684-e7b3-488f-b735-feeb78efc829",
   "metadata": {},
   "outputs": [],
   "source": [
    "X = np.zeros((len(prev_words), WORD_LENGTH, len(unique_words)), dtype=bool)\n",
    "Y = np.zeros((len(next_words), len(unique_words)), dtype=bool)\n",
    "for i, each_words in enumerate(prev_words):\n",
    "    for j, each_word in enumerate(each_words):\n",
    "        X[i, j, unique_word_index[each_word]] = 1\n",
    "    Y[i, unique_word_index[next_words[i]]] = 1"
   ]
  },
  {
   "cell_type": "code",
   "execution_count": 7,
   "id": "26d0bbb4-95ec-479e-96e0-f38fe2780f3f",
   "metadata": {},
   "outputs": [
    {
     "name": "stdout",
     "output_type": "stream",
     "text": [
      "[False False False ... False False False]\n"
     ]
    }
   ],
   "source": [
    "print(X[0][0])"
   ]
  },
  {
   "cell_type": "code",
   "execution_count": 8,
   "id": "afb3e50b-5316-431a-942b-d09767f7892a",
   "metadata": {},
   "outputs": [
    {
     "name": "stderr",
     "output_type": "stream",
     "text": [
      "C:\\Users\\YASHRAJ MISHRA\\AppData\\Roaming\\Python\\Python311\\site-packages\\keras\\src\\layers\\rnn\\rnn.py:204: UserWarning: Do not pass an `input_shape`/`input_dim` argument to a layer. When using Sequential models, prefer using an `Input(shape)` object as the first layer in the model instead.\n",
      "  super().__init__(**kwargs)\n"
     ]
    }
   ],
   "source": [
    "model = Sequential()\n",
    "model.add(LSTM(128, input_shape=(WORD_LENGTH, len(unique_words))))\n",
    "model.add(Dense(len(unique_words)))\n",
    "model.add(Activation('softmax'))"
   ]
  },
  {
   "cell_type": "markdown",
   "id": "4e8c87b1-8573-430b-98ba-afd532f6fd49",
   "metadata": {},
   "source": [
    "# Model Training"
   ]
  },
  {
   "cell_type": "code",
   "execution_count": 9,
   "id": "94b06768-19fc-4c34-a06f-e7c41b254acf",
   "metadata": {},
   "outputs": [
    {
     "name": "stdout",
     "output_type": "stream",
     "text": [
      "Epoch 1/20\n",
      "\u001b[1m811/811\u001b[0m \u001b[32m━━━━━━━━━━━━━━━━━━━━\u001b[0m\u001b[37m\u001b[0m \u001b[1m87s\u001b[0m 104ms/step - accuracy: 0.0553 - loss: 6.6239 - val_accuracy: 0.0718 - val_loss: 6.8953\n",
      "Epoch 2/20\n",
      "\u001b[1m811/811\u001b[0m \u001b[32m━━━━━━━━━━━━━━━━━━━━\u001b[0m\u001b[37m\u001b[0m \u001b[1m84s\u001b[0m 103ms/step - accuracy: 0.1105 - loss: 5.7989 - val_accuracy: 0.1012 - val_loss: 6.7243\n",
      "Epoch 3/20\n",
      "\u001b[1m811/811\u001b[0m \u001b[32m━━━━━━━━━━━━━━━━━━━━\u001b[0m\u001b[37m\u001b[0m \u001b[1m83s\u001b[0m 103ms/step - accuracy: 0.1360 - loss: 5.4740 - val_accuracy: 0.1000 - val_loss: 6.6494\n",
      "Epoch 4/20\n",
      "\u001b[1m811/811\u001b[0m \u001b[32m━━━━━━━━━━━━━━━━━━━━\u001b[0m\u001b[37m\u001b[0m \u001b[1m84s\u001b[0m 103ms/step - accuracy: 0.1537 - loss: 5.1902 - val_accuracy: 0.0990 - val_loss: 6.5822\n",
      "Epoch 5/20\n",
      "\u001b[1m811/811\u001b[0m \u001b[32m━━━━━━━━━━━━━━━━━━━━\u001b[0m\u001b[37m\u001b[0m \u001b[1m85s\u001b[0m 105ms/step - accuracy: 0.1747 - loss: 4.9524 - val_accuracy: 0.0987 - val_loss: 6.6934\n",
      "Epoch 6/20\n",
      "\u001b[1m811/811\u001b[0m \u001b[32m━━━━━━━━━━━━━━━━━━━━\u001b[0m\u001b[37m\u001b[0m \u001b[1m83s\u001b[0m 102ms/step - accuracy: 0.2004 - loss: 4.6798 - val_accuracy: 0.0978 - val_loss: 6.6902\n",
      "Epoch 7/20\n",
      "\u001b[1m811/811\u001b[0m \u001b[32m━━━━━━━━━━━━━━━━━━━━\u001b[0m\u001b[37m\u001b[0m \u001b[1m83s\u001b[0m 103ms/step - accuracy: 0.2343 - loss: 4.3976 - val_accuracy: 0.0972 - val_loss: 6.7474\n",
      "Epoch 8/20\n",
      "\u001b[1m811/811\u001b[0m \u001b[32m━━━━━━━━━━━━━━━━━━━━\u001b[0m\u001b[37m\u001b[0m \u001b[1m83s\u001b[0m 103ms/step - accuracy: 0.2678 - loss: 4.0908 - val_accuracy: 0.0954 - val_loss: 6.8297\n",
      "Epoch 9/20\n",
      "\u001b[1m811/811\u001b[0m \u001b[32m━━━━━━━━━━━━━━━━━━━━\u001b[0m\u001b[37m\u001b[0m \u001b[1m84s\u001b[0m 103ms/step - accuracy: 0.3138 - loss: 3.7612 - val_accuracy: 0.0890 - val_loss: 7.0758\n",
      "Epoch 10/20\n",
      "\u001b[1m811/811\u001b[0m \u001b[32m━━━━━━━━━━━━━━━━━━━━\u001b[0m\u001b[37m\u001b[0m \u001b[1m83s\u001b[0m 103ms/step - accuracy: 0.3650 - loss: 3.4383 - val_accuracy: 0.0855 - val_loss: 7.2551\n",
      "Epoch 11/20\n",
      "\u001b[1m811/811\u001b[0m \u001b[32m━━━━━━━━━━━━━━━━━━━━\u001b[0m\u001b[37m\u001b[0m \u001b[1m83s\u001b[0m 103ms/step - accuracy: 0.4104 - loss: 3.1328 - val_accuracy: 0.0817 - val_loss: 7.5175\n",
      "Epoch 12/20\n",
      "\u001b[1m811/811\u001b[0m \u001b[32m━━━━━━━━━━━━━━━━━━━━\u001b[0m\u001b[37m\u001b[0m \u001b[1m84s\u001b[0m 103ms/step - accuracy: 0.4593 - loss: 2.8395 - val_accuracy: 0.0774 - val_loss: 7.7860\n",
      "Epoch 13/20\n",
      "\u001b[1m811/811\u001b[0m \u001b[32m━━━━━━━━━━━━━━━━━━━━\u001b[0m\u001b[37m\u001b[0m \u001b[1m83s\u001b[0m 103ms/step - accuracy: 0.5028 - loss: 2.5944 - val_accuracy: 0.0731 - val_loss: 7.9590\n",
      "Epoch 14/20\n",
      "\u001b[1m811/811\u001b[0m \u001b[32m━━━━━━━━━━━━━━━━━━━━\u001b[0m\u001b[37m\u001b[0m \u001b[1m84s\u001b[0m 103ms/step - accuracy: 0.5476 - loss: 2.3438 - val_accuracy: 0.0703 - val_loss: 8.1869\n",
      "Epoch 15/20\n",
      "\u001b[1m811/811\u001b[0m \u001b[32m━━━━━━━━━━━━━━━━━━━━\u001b[0m\u001b[37m\u001b[0m \u001b[1m84s\u001b[0m 103ms/step - accuracy: 0.5891 - loss: 2.1199 - val_accuracy: 0.0703 - val_loss: 8.6229\n",
      "Epoch 16/20\n",
      "\u001b[1m811/811\u001b[0m \u001b[32m━━━━━━━━━━━━━━━━━━━━\u001b[0m\u001b[37m\u001b[0m \u001b[1m84s\u001b[0m 104ms/step - accuracy: 0.6252 - loss: 1.9368 - val_accuracy: 0.0659 - val_loss: 8.8057\n",
      "Epoch 17/20\n",
      "\u001b[1m811/811\u001b[0m \u001b[32m━━━━━━━━━━━━━━━━━━━━\u001b[0m\u001b[37m\u001b[0m \u001b[1m84s\u001b[0m 104ms/step - accuracy: 0.6598 - loss: 1.7766 - val_accuracy: 0.0732 - val_loss: 8.9702\n",
      "Epoch 18/20\n",
      "\u001b[1m811/811\u001b[0m \u001b[32m━━━━━━━━━━━━━━━━━━━━\u001b[0m\u001b[37m\u001b[0m \u001b[1m84s\u001b[0m 104ms/step - accuracy: 0.6937 - loss: 1.5992 - val_accuracy: 0.0666 - val_loss: 9.1559\n",
      "Epoch 19/20\n",
      "\u001b[1m811/811\u001b[0m \u001b[32m━━━━━━━━━━━━━━━━━━━━\u001b[0m\u001b[37m\u001b[0m \u001b[1m84s\u001b[0m 103ms/step - accuracy: 0.7260 - loss: 1.4457 - val_accuracy: 0.0644 - val_loss: 9.4324\n",
      "Epoch 20/20\n",
      "\u001b[1m811/811\u001b[0m \u001b[32m━━━━━━━━━━━━━━━━━━━━\u001b[0m\u001b[37m\u001b[0m \u001b[1m84s\u001b[0m 103ms/step - accuracy: 0.7511 - loss: 1.3307 - val_accuracy: 0.0650 - val_loss: 9.6909\n"
     ]
    }
   ],
   "source": [
    "optimizer = RMSprop(learning_rate=0.01)\n",
    "model.compile(loss='categorical_crossentropy', optimizer=optimizer, metrics=['accuracy'])\n",
    "history = model.fit(X, Y, validation_split=0.05, batch_size=128, epochs=20, shuffle=True).history"
   ]
  },
  {
   "cell_type": "markdown",
   "id": "9e01b3ed-e296-49ea-afe8-d73f2a2238e9",
   "metadata": {},
   "source": [
    "# Saving Model"
   ]
  },
  {
   "cell_type": "code",
   "execution_count": 10,
   "id": "4b15da82-890b-4a93-a2d0-21966d54565e",
   "metadata": {},
   "outputs": [
    {
     "name": "stderr",
     "output_type": "stream",
     "text": [
      "WARNING:absl:You are saving your model as an HDF5 file via `model.save()` or `keras.saving.save_model(model)`. This file format is considered legacy. We recommend using instead the native Keras format, e.g. `model.save('my_model.keras')` or `keras.saving.save_model(model, 'my_model.keras')`. \n",
      "WARNING:absl:Compiled the loaded model, but the compiled metrics have yet to be built. `model.compile_metrics` will be empty until you train or evaluate the model.\n"
     ]
    }
   ],
   "source": [
    "model.save('keras_next_word_model.h5')\n",
    "pickle.dump(history, open(\"history.p\", \"wb\"))\n",
    "model = load_model('keras_next_word_model.h5')\n",
    "history = pickle.load(open(\"history.p\", \"rb\"))"
   ]
  },
  {
   "cell_type": "markdown",
   "id": "882c2938-6363-45dd-a8b8-35db2bdc3894",
   "metadata": {},
   "source": [
    "# Predictions"
   ]
  },
  {
   "cell_type": "code",
   "execution_count": 12,
   "id": "15123072-c3b1-4ca4-b46c-a56748ffe041",
   "metadata": {},
   "outputs": [
    {
     "name": "stdout",
     "output_type": "stream",
     "text": [
      "how\n",
      "are\n",
      "you\n"
     ]
    },
    {
     "data": {
      "text/plain": [
       "array([[[0., 0., 0., ..., 0., 0., 0.],\n",
       "        [0., 0., 0., ..., 0., 0., 0.],\n",
       "        [0., 0., 0., ..., 0., 0., 0.],\n",
       "        [0., 0., 0., ..., 0., 0., 0.],\n",
       "        [0., 0., 0., ..., 0., 0., 0.]]])"
      ]
     },
     "execution_count": 12,
     "metadata": {},
     "output_type": "execute_result"
    }
   ],
   "source": [
    "def prepare_input(text):\n",
    "    x = np.zeros((1, WORD_LENGTH, len(unique_words)))\n",
    "    for t, word in enumerate(text.split()):\n",
    "        print(word)\n",
    "        x[0, t, unique_word_index[word]] = 1\n",
    "    return x\n",
    "prepare_input(\"How are you \".lower())"
   ]
  },
  {
   "cell_type": "code",
   "execution_count": 13,
   "id": "945522fa-43e5-4196-80eb-b1cb3943da76",
   "metadata": {},
   "outputs": [],
   "source": [
    "def sample(preds, top_n=3):\n",
    "    preds = np.asarray(preds).astype('float64')\n",
    "    preds = np.log(preds)\n",
    "    exp_preds = np.exp(preds)\n",
    "    preds = exp_preds / np.sum(exp_preds)\n",
    "\n",
    "    return heapq.nlargest(top_n, range(len(preds)), preds.take)"
   ]
  },
  {
   "cell_type": "code",
   "execution_count": 14,
   "id": "90b22bb8-218e-455e-9442-28611968a8b6",
   "metadata": {},
   "outputs": [],
   "source": [
    "def predict_completions(text, n=3):\n",
    "    if text == \"\":\n",
    "        return(\"0\")\n",
    "    x = prepare_input(text)\n",
    "    preds = model.predict(x, verbose=0)[0]\n",
    "    next_indices = sample(preds, n)\n",
    "    return [unique_words[idx] for idx in next_indices]"
   ]
  },
  {
   "cell_type": "markdown",
   "id": "81100042-b67c-4129-8998-fb66de6d5e01",
   "metadata": {},
   "source": [
    "# Testing the Results"
   ]
  },
  {
   "cell_type": "code",
   "execution_count": 15,
   "id": "aa353638-a8c2-4aad-9819-a9d6b4edd4c9",
   "metadata": {},
   "outputs": [
    {
     "name": "stdout",
     "output_type": "stream",
     "text": [
      "correct sentence:  Do your work by your own instead of depending on someone\n",
      "Sequence:  do your work by your\n",
      "do\n",
      "your\n",
      "work\n",
      "by\n",
      "your\n",
      "next possible words:  ['do', 'your', 'get', 'you', 'come']\n"
     ]
    }
   ],
   "source": [
    "q =  \"Do your work by your own instead of depending on someone\"\n",
    "print(\"correct sentence: \",q)\n",
    "seq = \" \".join(tokenizer.tokenize(q.lower())[0:5])\n",
    "print(\"Sequence: \",seq)\n",
    "print(\"next possible words: \", predict_completions(seq, 5))"
   ]
  },
  {
   "cell_type": "code",
   "execution_count": 16,
   "id": "d0aa4962-ef28-40ee-aa8c-ef19daab2fb9",
   "metadata": {},
   "outputs": [
    {
     "name": "stdout",
     "output_type": "stream",
     "text": [
      "correct sentence:  Do your work by your own instead of depending on someone\n",
      "Sequence:  do your work by your\n",
      "do\n",
      "your\n",
      "work\n",
      "by\n",
      "your\n",
      "next possible words:  ['do', 'your', 'get', 'you', 'come']\n"
     ]
    }
   ],
   "source": [
    "q =  \"Do your work by your own instead of depending on someone\"\n",
    "print(\"correct sentence: \",q)\n",
    "seq = \" \".join(tokenizer.tokenize(q.lower())[0:5])\n",
    "print(\"Sequence: \",seq)\n",
    "print(\"next possible words: \", predict_completions(seq, 5))"
   ]
  }
 ],
 "metadata": {
  "kernelspec": {
   "display_name": "Python 3 (ipykernel)",
   "language": "python",
   "name": "python3"
  },
  "language_info": {
   "codemirror_mode": {
    "name": "ipython",
    "version": 3
   },
   "file_extension": ".py",
   "mimetype": "text/x-python",
   "name": "python",
   "nbconvert_exporter": "python",
   "pygments_lexer": "ipython3",
   "version": "3.11.7"
  }
 },
 "nbformat": 4,
 "nbformat_minor": 5
}
